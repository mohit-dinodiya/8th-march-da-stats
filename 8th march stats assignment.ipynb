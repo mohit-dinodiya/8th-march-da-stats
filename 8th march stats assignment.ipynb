{
 "cells": [
  {
   "cell_type": "markdown",
   "id": "595c7a8e-07a1-4b03-97d1-25b8185d526f",
   "metadata": {},
   "source": [
    "# Q1. What is the Probability density function?\n",
    "\n",
    "The Probability Density Function (PDF) is a mathematical function that describes the relative likelihood of a continuous random variable taking on a certain value.\n",
    "\n",
    "In other words, the PDF represents the distribution of a continuous random variable and indicates the probability that the variable will take a specific value within a certain range. Unlike discrete random variables, which can only take on specific values, continuous random variables can take on any value within a given range.\n",
    "\n",
    "The PDF is defined as the derivative of the cumulative distribution function (CDF), which is the probability that a random variable is less than or equal to a certain value. The PDF can be used to calculate the probability of a random variable falling within a certain interval by integrating the PDF over that interval.\n",
    "\n",
    "The PDF is an essential concept in statistics and probability theory, and is used in many applications, such as modeling and analyzing complex systems, forecasting future events, and making decisions based on uncertain information.\n",
    "\n",
    "\n",
    "\n"
   ]
  },
  {
   "cell_type": "markdown",
   "id": "9ed1f6fd-79b8-4d7a-8e58-b2e1a9f90fd8",
   "metadata": {},
   "source": [
    "# Q2. What are the types of Probability distribution?\n",
    "\n",
    "There are several types of probability distributions, each with its own properties and applications. The most commonly used probability distributions are:\n",
    "\n",
    "Normal Distribution: The normal distribution, also known as the Gaussian distribution, is a bell-shaped distribution that is symmetric around the mean. Many natural phenomena, such as the heights of individuals in a population, follow a normal distribution. It is characterized by two parameters: mean (μ) and standard deviation (σ).\n",
    "\n",
    "Binomial Distribution: The binomial distribution is a discrete probability distribution that describes the number of successes in a fixed number of independent trials with a constant probability of success. It is often used to model the number of successes in a sample, such as the number of heads in a series of coin tosses.\n",
    "\n",
    "Poisson Distribution: The Poisson distribution is a discrete probability distribution that models the probability of a certain number of events occurring in a fixed interval of time or space, given the average rate of occurrence. It is often used to model rare events, such as the number of car accidents in a given area over a period of time.\n",
    "\n",
    "Exponential Distribution: The exponential distribution is a continuous probability distribution that models the time between two successive events in a Poisson process. It is often used to model the lifetimes of products or components.\n",
    "\n",
    "Uniform Distribution: The uniform distribution is a continuous probability distribution that models events with equal probability over a fixed interval. It is often used to model random sampling from a finite population.\n",
    "\n",
    "Beta Distribution: The beta distribution is a continuous probability distribution that models events with a limited range of possible values, such as proportions or probabilities. It is often used in Bayesian statistics.\n",
    "\n",
    "These are just a few examples of probability distributions, and there are many more that are used in different fields of study.\n",
    "\n",
    "\n",
    "\n",
    "\n",
    "\n"
   ]
  },
  {
   "cell_type": "markdown",
   "id": "a3ba0be4-8c70-4818-85d0-0a2f919728cd",
   "metadata": {},
   "source": [
    "# Q3. What are the properties of Binomial distribution? Give two examples of events where binomial distribution can be applied.\n",
    "\n",
    "The Binomial distribution has the following properties:\n",
    "\n",
    "It is a discrete probability distribution that describes the number of successes in a fixed number of independent trials with a constant probability of success.\n",
    "It has two parameters: n (the number of trials) and p (the probability of success in each trial).\n",
    "The mean of the Binomial distribution is μ = np, and the variance is σ^2 = np*(1-p).\n",
    "It is a symmetric distribution when p=0.5, and it becomes more skewed as p moves away from 0.5.\n",
    "The Binomial distribution can be approximated by the normal distribution when n is large and p is not too close to 0 or 1.\n",
    "Two examples of events where the Binomial distribution can be applied are:\n",
    "\n",
    "Flipping a coin: When a fair coin is flipped n times, the number of heads can be modeled by a Binomial distribution with n trials and p=0.5 probability of success in each trial.\n",
    "Quality control: A factory produces n items, and each item has a probability p of being defective. The number of defective items can be modeled by a Binomial distribution with n trials and probability of success p. The Binomial distribution can be used to calculate the probability of producing a certain number of defective items, which can help the factory determine the quality of its production process."
   ]
  },
  {
   "cell_type": "markdown",
   "id": "fcdf5d7e-1bc2-455b-8927-9335a361d409",
   "metadata": {},
   "source": [
    "# Q4. How Binomial distribution different from Poisson distribution?\n",
    "\n",
    "inomial and Poisson distributions are both used to model the number of occurrences of an event, but they have some key differences:\n",
    "\n",
    "The Binomial distribution is used when there is a fixed number of independent trials, each with a constant probability of success. The Poisson distribution is used when the number of events that can occur is large, but the probability of each event is small.\n",
    "\n",
    "The Binomial distribution is a discrete probability distribution that models the number of successes in a fixed number of trials, while the Poisson distribution is a discrete probability distribution that models the number of occurrences of an event in a fixed interval of time or space.\n",
    "\n",
    "The Binomial distribution has two parameters: n (the number of trials) and p (the probability of success in each trial), while the Poisson distribution has one parameter: λ (the average rate of occurrence).\n",
    "\n",
    "The mean and variance of the Binomial distribution are both dependent on n and p, while the mean and variance of the Poisson distribution are both equal to λ.\n",
    "\n",
    "The Binomial distribution approaches the Poisson distribution as the number of trials n approaches infinity and the probability of success p approaches zero, such that np = λ.\n",
    "\n",
    "In summary, the Binomial distribution is used for a fixed number of trials with a constant probability of success, while the Poisson distribution is used for a large number of events with a small probability of occurrence."
   ]
  },
  {
   "cell_type": "markdown",
   "id": "5894e571-dfcb-4cb9-9cf8-b27a6602ca9f",
   "metadata": {},
   "source": [
    "# Q5. How mean and variance are related in Binomial distribution and Poisson distribution?\n",
    "\n",
    "In the Binomial distribution, the mean and variance are related to the number of trials (n) and the probability of success in each trial (p) as follows:\n",
    "\n",
    "Mean = μ = n * p\n",
    "Variance = σ^2 = n * p * (1 - p)\n",
    "In the Poisson distribution, the mean and variance are both equal to the average rate of occurrence (λ), as follows:\n",
    "\n",
    "Mean = μ = λ\n",
    "Variance = σ^2 = λ\n",
    "Therefore, in both the Binomial and Poisson distributions, the variance increases as the mean increases. However, the relationship between the mean and variance is more pronounced in the Binomial distribution, as the variance is directly proportional to both the number of trials and the probability of success. In contrast, in the Poisson distribution, the variance is solely dependent on the mean, which is the average rate of occurrence."
   ]
  },
  {
   "cell_type": "markdown",
   "id": "58bf111f-a15b-486b-879d-ec41d15e3cff",
   "metadata": {},
   "source": [
    "# Q6. In normal distribution with respect to mean position, where does the least frequent data appear?\n",
    "\n",
    "In a normal distribution, the data is symmetrically distributed around the mean. Therefore, the least frequent data appears at the tails of the distribution, which are farthest away from the mean.\n",
    "\n",
    "Specifically, for a normal distribution, the least frequent data appears at the two extreme ends of the distribution, at values that are several standard deviations away from the mean. The probability of observing data at these extreme values is very low, as most of the data is concentrated near the mean.\n",
    "\n",
    "For example, if a normal distribution has a mean of 50 and a standard deviation of 10, the least frequent data would be observed at values less than 30 or greater than 70. The data is expected to be more frequent around the mean value of 50, with a higher probability of observing data between 40 and 60."
   ]
  },
  {
   "cell_type": "markdown",
   "id": "1bea65a1-2b0f-40cc-8043-2cf9f4beaa55",
   "metadata": {},
   "source": [
    "# Q7. Generate a random sample of size 1000 from a Poisson distribution with mean 5 and calculate the sample mean and variance.\n",
    "\n",
    "Here's how we can generate a random sample of size 1000 from a Poisson distribution with mean 5 in Python using the NumPy library:"
   ]
  },
  {
   "cell_type": "code",
   "execution_count": 2,
   "id": "d9566a0c-acf4-4f80-82e8-57a3a087861a",
   "metadata": {},
   "outputs": [
    {
     "name": "stdout",
     "output_type": "stream",
     "text": [
      "Sample Mean: 4.943\n",
      "Sample Variance: 5.445751\n"
     ]
    }
   ],
   "source": [
    "import numpy as np\n",
    "\n",
    "np.random.seed(1234) \n",
    "sample = np.random.poisson(lam=5, size=1000) \n",
    "\n",
    "sample_mean = np.mean(sample) \n",
    "sample_variance = np.var(sample) \n",
    "\n",
    "print(\"Sample Mean:\", sample_mean)\n",
    "print(\"Sample Variance:\", sample_variance)\n"
   ]
  },
  {
   "cell_type": "markdown",
   "id": "55ed7a55-d776-46d0-8953-46004d9600ba",
   "metadata": {},
   "source": [
    "# Q8. Write a Python function to calculate the probability density function of a normal distribution with given mean and standard deviation at a given point.\n",
    "\n",
    " here is an example Python function that calculates the PDF of a normal distribution with given mean and standard deviation at a given point x:"
   ]
  },
  {
   "cell_type": "code",
   "execution_count": 3,
   "id": "0992cfea-09fb-44f7-9f21-279a6c007798",
   "metadata": {},
   "outputs": [],
   "source": [
    "import math\n",
    "\n",
    "def normal_pdf(x, mean, stdev):\n",
    "    \"\"\"\n",
    "    Calculates the probability density function of a normal distribution\n",
    "    with given mean and standard deviation at a given point x.\n",
    "    \"\"\"\n",
    "    exponent = -((x - mean) ** 2) / (2 * stdev ** 2)\n",
    "    coefficient = 1 / (stdev * math.sqrt(2 * math.pi))\n",
    "    pdf = coefficient * math.exp(exponent)\n",
    "    return pdf\n"
   ]
  },
  {
   "cell_type": "code",
   "execution_count": 4,
   "id": "e5866d98-1112-419f-bdb1-7a3df8dc1781",
   "metadata": {},
   "outputs": [
    {
     "name": "stdout",
     "output_type": "stream",
     "text": [
      "0.05399096651318806\n"
     ]
    }
   ],
   "source": [
    "x = 2\n",
    "mean = 0\n",
    "stdev = 1\n",
    "pdf = normal_pdf(x, mean, stdev)\n",
    "print(pdf)  \n"
   ]
  },
  {
   "cell_type": "markdown",
   "id": "93fc1cfd-b795-4f3e-b382-5befa68072c2",
   "metadata": {},
   "source": [
    "# Q9. Generate a random sample of size 1000 from a binomial distribution with probability of success 0.4 and plot a histogram of the results using matplotlib.\n",
    "\n"
   ]
  },
  {
   "cell_type": "code",
   "execution_count": 5,
   "id": "53801e41-5f16-4200-b51e-b8fe21818c53",
   "metadata": {},
   "outputs": [
    {
     "data": {
      "image/png": "[encoded data removed]",
      "text/plain": [
       "<Figure size 640x480 with 1 Axes>"
      ]
     },
     "metadata": {},
     "output_type": "display_data"
    }
   ],
   "source": [
    "import numpy as np\n",
    "import matplotlib.pyplot as plt\n",
    "\n",
    "np.random.seed(1234) # set random seed for reproducibility\n",
    "sample = np.random.binomial(n=1, p=0.4, size=1000) # generate random sample\n",
    "\n",
    "plt.hist(sample, bins=2, edgecolor='black') # plot histogram with 2 bins\n",
    "plt.xlabel('Outcome')\n",
    "plt.ylabel('Frequency')\n",
    "plt.title('Binomial Distribution Histogram')\n",
    "plt.xticks([0, 1], ['Failure', 'Success']) # label x-axis ticks\n",
    "plt.show()\n"
   ]
  },
  {
   "cell_type": "markdown",
   "id": "ef9b966e-68bf-4deb-b62e-844acf9fb04f",
   "metadata": {},
   "source": [
    "# Q10. Write a Python function to calculate the cumulative distribution function of a Poisson distribution with given mean at a given point.\n",
    "\n",
    "\n"
   ]
  },
  {
   "cell_type": "code",
   "execution_count": 6,
   "id": "dffffeef-70b4-492c-8b82-dc92ac508b3e",
   "metadata": {},
   "outputs": [],
   "source": [
    "from scipy.stats import poisson\n",
    "\n",
    "def poisson_cdf(mean, point):\n",
    "    \"\"\"Calculate the cumulative distribution function of a Poisson distribution with a given mean at a given point.\"\"\"\n",
    "    cdf = poisson.cdf(point, mean)\n",
    "    return cdf\n"
   ]
  },
  {
   "cell_type": "code",
   "execution_count": 7,
   "id": "d5b45d3b-5cd9-4f6c-be3b-ce6fc0591f85",
   "metadata": {},
   "outputs": [
    {
     "name": "stdout",
     "output_type": "stream",
     "text": [
      "0.9160820579686966\n"
     ]
    }
   ],
   "source": [
    "result = poisson_cdf(mean=3, point=5)\n",
    "print(result)"
   ]
  },
  {
   "cell_type": "code",
   "execution_count": null,
   "id": "502fd299-42b0-4a08-8284-ce21d302e10b",
   "metadata": {},
   "outputs": [],
   "source": []
  }
 ],
 "metadata": {
  "kernelspec": {
   "display_name": "Python 3 (ipykernel)",
   "language": "python",
   "name": "python3"
  },
  "language_info": {
   "codemirror_mode": {
    "name": "ipython",
    "version": 3
   },
   "file_extension": ".py",
   "mimetype": "text/x-python",
   "name": "python",
   "nbconvert_exporter": "python",
   "pygments_lexer": "ipython3",
   "version": "3.10.8"
  }
 },
 "nbformat": 4,
 "nbformat_minor": 5
}
